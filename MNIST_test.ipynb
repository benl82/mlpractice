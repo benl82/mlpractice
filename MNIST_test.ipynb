{
  "cells": [
    {
      "cell_type": "code",
      "execution_count": 1,
      "metadata": {
        "id": "EeKR5ExXUdGy"
      },
      "outputs": [],
      "source": [
        "import tensorflow as tf\n",
        "import numpy as np\n",
        "import matplotlib.pyplot as plt\n",
        "\n",
        "from tensorflow.keras.datasets import mnist\n",
        "from tensorflow.keras.utils import to_categorical\n",
        "from tensorflow.keras.layers import Dense\n",
        "\n",
        "np.warnings.filterwarnings('ignore', category=np.VisibleDeprecationWarning)            "
      ]
    },
    {
      "cell_type": "code",
      "execution_count": 2,
      "metadata": {
        "colab": {
          "base_uri": "https://localhost:8080/"
        },
        "id": "SNxuZyGOUdGz",
        "outputId": "58c8a0ca-4dd2-46a6-9e9f-896c948cea7d"
      },
      "outputs": [
        {
          "name": "stdout",
          "output_type": "stream",
          "text": [
            "Shape:  (2, 2)\n"
          ]
        }
      ],
      "source": [
        "data = mnist.load_data()\n",
        "print(\"Shape: \", np.shape(data))\n",
        "(train_images, train_labels), (test_images, test_labels) = data"
      ]
    },
    {
      "cell_type": "code",
      "execution_count": 3,
      "metadata": {
        "colab": {
          "base_uri": "https://localhost:8080/",
          "height": 337
        },
        "id": "IpW0N2BgUdG0",
        "outputId": "a0d8f2b5-1d52-4895-bf6c-3917611e4c67"
      },
      "outputs": [
        {
          "data": {
            "image/png": "[encoded data removed]",
            "text/plain": [
              "<Figure size 432x288 with 9 Axes>"
            ]
          },
          "metadata": {
            "needs_background": "light"
          },
          "output_type": "display_data"
        },
        {
          "name": "stdout",
          "output_type": "stream",
          "text": [
            "\n",
            "Training Images Shape: (60000, 28, 28)\n",
            "Training Labels: [5 0 4 1 9 2 1 3 1]\n",
            "Training Labels Shape: (60000,)\n"
          ]
        }
      ],
      "source": [
        "digits = train_images[0:9]\n",
        "for i in range(9):\n",
        "  plt.subplot(331 + i) # I'm doing a 3x3 grid, since it's 9 numbers and I think it'll look prettier\n",
        "  plt.imshow(digits[i], cmap = 'gray')\n",
        "plt.show()\n",
        "print(\"\\nTraining Images Shape:\", train_images.shape)\n",
        "print(\"Training Labels:\", train_labels[0:9])\n",
        "print(\"Training Labels Shape:\", train_labels.shape)"
      ]
    },
    {
      "cell_type": "code",
      "execution_count": 4,
      "metadata": {
        "id": "rm-J9n08UdG0"
      },
      "outputs": [],
      "source": [
        "class Model(tf.keras.Model):\n",
        "    def __init__(self) -> None:\n",
        "        super(Model, self).__init__()\n",
        "        self.layer1 = tf.keras.layers.Dense(512, activation = 'relu', input_shape = (784, ))\n",
        "        # It's interesting - I did input_shape = (28*28, ) and my accuracy was 0.11; changed it to input_shape = (784, ) and my accuracy went up to >0.9. Not sure why\n",
        "        self.layer2 = tf.keras.layers.Dense(10, activation = 'softmax')\n",
        "\n",
        "    def call(self, input: np.array) -> tf.Tensor:\n",
        "        input = self.layer1(input)\n",
        "        input = self.layer2(input)\n",
        "        return input"
      ]
    },
    {
      "cell_type": "code",
      "execution_count": 5,
      "metadata": {
        "id": "zh0o5IogUdG1"
      },
      "outputs": [],
      "source": [
        "loss_func = tf.keras.losses.CategoricalCrossentropy()\n",
        "optimizer = tf.keras.optimizers.SGD(learning_rate = 0.01)\n",
        "# I haven't tested different learning rates so I'm sticking with lr 0.01 and momentum 0"
      ]
    },
    {
      "cell_type": "markdown",
      "metadata": {
        "id": "2rs9NqwgUdG1"
      },
      "source": [
        "Cross log entropy is best when used for classifying data, which we are doing here. I am using the Categorical crossentropy as opposed to the Binary, as we have 10 classes (digits 0-9) as opposed to 2, which is when Binary works best. I am using Categorical as opposed to SparseCategorical, since Categorical requires one-hot encoding which I have done (below), while SparseCategorical takes integers.\n",
        "\n",
        "I'm using SGD as it generalizes the best and uses the least resources; we don't need a crazy optimizer like Adam for our relatively simple data."
      ]
    },
    {
      "cell_type": "code",
      "execution_count": 6,
      "metadata": {
        "id": "OvS-X5pkUdG1"
      },
      "outputs": [],
      "source": [
        "model = Model()\n",
        "model.compile(optimizer = optimizer, loss = loss_func, metrics = [\"accuracy\"])"
      ]
    },
    {
      "cell_type": "markdown",
      "metadata": {
        "id": "-JWsdC2vUdG1"
      },
      "source": [
        " Why did the programmer quit his job?\n",
        "\n",
        "He didn't get arrays (a raise haha)"
      ]
    },
    {
      "cell_type": "code",
      "execution_count": 7,
      "metadata": {
        "id": "aRP7HahZUdG2"
      },
      "outputs": [],
      "source": [
        "train_images = train_images.reshape((60000, 28 * 28))\n",
        "train_images = train_images.astype(\"float32\") / 255\n",
        "\n",
        "test_images = test_images.reshape((10000, 28 * 28))\n",
        "test_images = test_images.astype(\"float32\") / 255"
      ]
    },
    {
      "cell_type": "markdown",
      "metadata": {
        "id": "xoAYRf-oUdG2"
      },
      "source": [
        "We reshape data because our layers require the data to be in a certain shape, so the reshape function fits our data into that format. We cast the type to 32-bit float in order to have the data be usable with our mathematical functions."
      ]
    },
    {
      "cell_type": "code",
      "execution_count": 8,
      "metadata": {
        "id": "82C1NokrUdG2"
      },
      "outputs": [],
      "source": [
        "tf_train_labels = to_categorical(train_labels)\n",
        "tf_test_labels = to_categorical(test_labels)"
      ]
    },
    {
      "cell_type": "markdown",
      "metadata": {
        "id": "pLUCufikUdG2"
      },
      "source": [
        "Categorical variables store the variables as instances of a category - for example, a categorical variable might be a color or a city. Each category is assigned a binary vector (when one-hotting), with all 0's except for the position of the assigned category which is 1, so that we can better group our labels; the optimizers also require numerical arguments, so if our labels are strings, it won't work."
      ]
    },
    {
      "cell_type": "code",
      "execution_count": 9,
      "metadata": {
        "id": "VoOI80l1UdG2"
      },
      "outputs": [],
      "source": [
        "def one_hot_encoding(input: np.array) -> np.array:\n",
        "    onehot = np.zeros(shape = (input.size, np.amax(input) + 1))\n",
        "    for n in range(input.size):\n",
        "      onehot[n][input[n]] = 1\n",
        "    return onehot"
      ]
    },
    {
      "cell_type": "code",
      "execution_count": 10,
      "metadata": {
        "id": "f5uRDJ8xUdG3"
      },
      "outputs": [],
      "source": [
        "assert np.array_equal(tf_train_labels, one_hot_encoding(train_labels))\n",
        "assert np.array_equal(tf_test_labels, one_hot_encoding(test_labels))"
      ]
    },
    {
      "cell_type": "code",
      "execution_count": 11,
      "metadata": {
        "colab": {
          "base_uri": "https://localhost:8080/"
        },
        "id": "k-Or0_29UdG3",
        "outputId": "672937af-3f12-4bc9-a638-a0d497060d4d"
      },
      "outputs": [
        {
          "name": "stdout",
          "output_type": "stream",
          "text": [
            "Epoch 1/10\n",
            "469/469 [==============================] - 4s 8ms/step - loss: 1.1293 - accuracy: 0.7457\n",
            "Epoch 2/10\n",
            "469/469 [==============================] - 3s 7ms/step - loss: 0.5287 - accuracy: 0.8714\n",
            "Epoch 3/10\n",
            "469/469 [==============================] - 3s 7ms/step - loss: 0.4221 - accuracy: 0.8898\n",
            "Epoch 4/10\n",
            "469/469 [==============================] - 3s 7ms/step - loss: 0.3741 - accuracy: 0.8999\n",
            "Epoch 5/10\n",
            "469/469 [==============================] - 3s 7ms/step - loss: 0.3449 - accuracy: 0.9061\n",
            "Epoch 6/10\n",
            "469/469 [==============================] - 3s 7ms/step - loss: 0.3242 - accuracy: 0.9100\n",
            "Epoch 7/10\n",
            "469/469 [==============================] - 3s 7ms/step - loss: 0.3082 - accuracy: 0.9138\n",
            "Epoch 8/10\n",
            "469/469 [==============================] - 3s 7ms/step - loss: 0.2950 - accuracy: 0.9175\n",
            "Epoch 9/10\n",
            "469/469 [==============================] - 3s 7ms/step - loss: 0.2837 - accuracy: 0.9209\n",
            "Epoch 10/10\n",
            "469/469 [==============================] - 3s 7ms/step - loss: 0.2737 - accuracy: 0.9240\n"
          ]
        },
        {
          "data": {
            "text/plain": [
              "<keras.callbacks.History at 0x2665f3cbb50>"
            ]
          },
          "execution_count": 11,
          "metadata": {},
          "output_type": "execute_result"
        }
      ],
      "source": [
        "model.fit(train_images, tf_train_labels, epochs = 10, batch_size = 128)"
      ]
    },
    {
      "cell_type": "markdown",
      "metadata": {
        "id": "eeh9k-4BUdG3"
      },
      "source": [
        "How many software engineers does it take to change a light bulb?\n",
        "\n",
        "None that's a hardware problem hahaaa"
      ]
    },
    {
      "cell_type": "code",
      "execution_count": 12,
      "metadata": {
        "colab": {
          "base_uri": "https://localhost:8080/"
        },
        "id": "LTZ0w8zeUdG3",
        "outputId": "804d3557-49aa-4717-c40d-8c8ee73ee459"
      },
      "outputs": [
        {
          "name": "stdout",
          "output_type": "stream",
          "text": [
            "313/313 [==============================] - 1s 4ms/step - loss: 0.2594 - accuracy: 0.9285\n",
            "testAccuracy 0.9284999966621399\n"
          ]
        }
      ],
      "source": [
        "test_loss, test_acc = model.evaluate(test_images, tf_test_labels)\n",
        "print('testAccuracy', test_acc)"
      ]
    },
    {
      "cell_type": "code",
      "execution_count": 13,
      "metadata": {
        "id": "nGuWFn1kUdG3"
      },
      "outputs": [],
      "source": [
        "def predict(model: tf.keras.Model, image: np.array) -> int:\n",
        "    return model(image).numpy().argmax()"
      ]
    },
    {
      "cell_type": "code",
      "execution_count": 36,
      "metadata": {
        "colab": {
          "base_uri": "https://localhost:8080/",
          "height": 300
        },
        "id": "Cicq61J6UdG3",
        "outputId": "340a2ddc-be58-43d8-9f3d-6803d80b5bc6"
      },
      "outputs": [
        {
          "data": {
            "image/png": "[encoded data removed]",
            "text/plain": [
              "<Figure size 432x288 with 9 Axes>"
            ]
          },
          "metadata": {
            "needs_background": "light"
          },
          "output_type": "display_data"
        }
      ],
      "source": [
        "(train_images, train_labels), (test_images, test_labels) = mnist.load_data()\n",
        "\n",
        "for i in range(9):\n",
        "    digit = test_images[10 + i]\n",
        "    temp = plt.subplot(331 + i)\n",
        "    digit2 = digit.reshape((1, 28 * 28))\n",
        "    digit2 = digit2.astype(\"float32\") / 255\n",
        "    str1 = \"Prediction:\" + str(predict(model, digit2))\n",
        "    temp.title.set_text(str1)\n",
        "    temp.imshow(digit, cmap = plt.cm.binary)\n",
        "plt.subplots_adjust(wspace = 0.5, hspace = 1)\n",
        "plt.show()\n"
      ]
    }
  ],
  "metadata": {
    "colab": {
      "collapsed_sections": [],
      "provenance": []
    },
    "kernelspec": {
      "display_name": "Python 3.10.5 64-bit",
      "language": "python",
      "name": "python3"
    },
    "language_info": {
      "codemirror_mode": {
        "name": "ipython",
        "version": 3
      },
      "file_extension": ".py",
      "mimetype": "text/x-python",
      "name": "python",
      "nbconvert_exporter": "python",
      "pygments_lexer": "ipython3",
      "version": "3.10.5"
    },
    "orig_nbformat": 4,
    "vscode": {
      "interpreter": {
        "hash": "369f2c481f4da34e4445cda3fffd2e751bd1c4d706f27375911949ba6bb62e1c"
      }
    }
  },
  "nbformat": 4,
  "nbformat_minor": 0
}
